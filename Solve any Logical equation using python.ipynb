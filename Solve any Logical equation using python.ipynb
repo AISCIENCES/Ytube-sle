{
 "cells": [
  {
   "cell_type": "code",
   "execution_count": null,
   "metadata": {},
   "outputs": [],
   "source": [
    "!pip install truth-table-generator"
   ]
  },
  {
   "cell_type": "code",
   "execution_count": 2,
   "metadata": {},
   "outputs": [],
   "source": [
    "import ttg"
   ]
  },
  {
   "cell_type": "markdown",
   "metadata": {},
   "source": [
    "# negation: 'not', '-', '~'\n",
    "# logical disjunction: 'or'\n",
    "# logical nor: 'nor'\n",
    "# exclusive disjunction: 'xor', '!='\n",
    "# logical conjunction: 'and'\n",
    "# logical NAND: 'nand'\n",
    "# material implication: '=>', 'implies'\n",
    "# logical biconditional: '='"
   ]
  },
  {
   "cell_type": "code",
   "execution_count": 6,
   "metadata": {},
   "outputs": [
    {
     "name": "stdout",
     "output_type": "stream",
     "text": [
      "+-----+-----+-----+\n",
      "|  p  |  q  |  r  |\n",
      "|-----+-----+-----|\n",
      "|  1  |  1  |  1  |\n",
      "|  1  |  1  |  0  |\n",
      "|  1  |  0  |  1  |\n",
      "|  1  |  0  |  0  |\n",
      "|  0  |  1  |  1  |\n",
      "|  0  |  1  |  0  |\n",
      "|  0  |  0  |  1  |\n",
      "|  0  |  0  |  0  |\n",
      "+-----+-----+-----+\n"
     ]
    }
   ],
   "source": [
    "print(ttg.Truths(['p', 'q', 'r']))"
   ]
  },
  {
   "cell_type": "code",
   "execution_count": 7,
   "metadata": {},
   "outputs": [
    {
     "name": "stdout",
     "output_type": "stream",
     "text": [
      "+-----+-----+-----+-----------------+\n",
      "|  p  |  q  |  r  |  p and q and r  |\n",
      "|-----+-----+-----+-----------------|\n",
      "|  1  |  1  |  1  |        1        |\n",
      "|  1  |  1  |  0  |        0        |\n",
      "|  1  |  0  |  1  |        0        |\n",
      "|  1  |  0  |  0  |        0        |\n",
      "|  0  |  1  |  1  |        0        |\n",
      "|  0  |  1  |  0  |        0        |\n",
      "|  0  |  0  |  1  |        0        |\n",
      "|  0  |  0  |  0  |        0        |\n",
      "+-----+-----+-----+-----------------+\n"
     ]
    }
   ],
   "source": [
    "print(ttg.Truths(['p', 'q', 'r'],['p and q and r']))"
   ]
  },
  {
   "cell_type": "code",
   "execution_count": 8,
   "metadata": {},
   "outputs": [
    {
     "name": "stdout",
     "output_type": "stream",
     "text": [
      "+-----+-----+-----+----------------------+\n",
      "|  p  |  q  |  r  |  p and q and r or r  |\n",
      "|-----+-----+-----+----------------------|\n",
      "|  1  |  1  |  1  |          1           |\n",
      "|  1  |  1  |  0  |          0           |\n",
      "|  1  |  0  |  1  |          1           |\n",
      "|  1  |  0  |  0  |          0           |\n",
      "|  0  |  1  |  1  |          1           |\n",
      "|  0  |  1  |  0  |          0           |\n",
      "|  0  |  0  |  1  |          1           |\n",
      "|  0  |  0  |  0  |          0           |\n",
      "+-----+-----+-----+----------------------+\n"
     ]
    }
   ],
   "source": [
    "print(ttg.Truths(['p', 'q', 'r'],['p and q and r or r']))"
   ]
  },
  {
   "cell_type": "code",
   "execution_count": 9,
   "metadata": {},
   "outputs": [
    {
     "name": "stdout",
     "output_type": "stream",
     "text": [
      "+-------+-------+-------+-----------------+\n",
      "|   p   |   q   |   r   |  p and q and r  |\n",
      "|-------+-------+-------+-----------------|\n",
      "| True  | True  | True  |      True       |\n",
      "| True  | True  | False |      False      |\n",
      "| True  | False | True  |      False      |\n",
      "| True  | False | False |      False      |\n",
      "| False | True  | True  |      False      |\n",
      "| False | True  | False |      False      |\n",
      "| False | False | True  |      False      |\n",
      "| False | False | False |      False      |\n",
      "+-------+-------+-------+-----------------+\n"
     ]
    }
   ],
   "source": [
    "print(ttg.Truths(['p', 'q', 'r'],['p and q and r'], ints = False))"
   ]
  },
  {
   "cell_type": "code",
   "execution_count": 10,
   "metadata": {},
   "outputs": [
    {
     "name": "stdout",
     "output_type": "stream",
     "text": [
      "+-------+-------+-------+-------------------+\n",
      "|   p   |   q   |   r   |  p and q or (~r)  |\n",
      "|-------+-------+-------+-------------------|\n",
      "| True  | True  | True  |       True        |\n",
      "| True  | True  | False |       True        |\n",
      "| True  | False | True  |       False       |\n",
      "| True  | False | False |       True        |\n",
      "| False | True  | True  |       False       |\n",
      "| False | True  | False |       True        |\n",
      "| False | False | True  |       False       |\n",
      "| False | False | False |       True        |\n",
      "+-------+-------+-------+-------------------+\n"
     ]
    }
   ],
   "source": [
    "print(ttg.Truths(['p', 'q', 'r'],['p and q or (~r)'], ints = False))"
   ]
  },
  {
   "cell_type": "code",
   "execution_count": null,
   "metadata": {},
   "outputs": [],
   "source": []
  },
  {
   "cell_type": "code",
   "execution_count": null,
   "metadata": {},
   "outputs": [],
   "source": []
  }
 ],
 "metadata": {
  "kernelspec": {
   "display_name": "Python 3",
   "language": "python",
   "name": "python3"
  },
  "language_info": {
   "codemirror_mode": {
    "name": "ipython",
    "version": 3
   },
   "file_extension": ".py",
   "mimetype": "text/x-python",
   "name": "python",
   "nbconvert_exporter": "python",
   "pygments_lexer": "ipython3",
   "version": "3.8.3"
  }
 },
 "nbformat": 4,
 "nbformat_minor": 4
}
